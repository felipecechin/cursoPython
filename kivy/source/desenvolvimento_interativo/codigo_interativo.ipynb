{
 "cells": [
  {
   "cell_type": "code",
   "execution_count": 1,
   "metadata": {
    "scrolled": true
   },
   "outputs": [
    {
     "name": "stderr",
     "output_type": "stream",
     "text": [
      "[INFO   ] [Logger      ] Record log in C:\\Users\\Felipe\\.kivy\\logs\\kivy_19-05-31_6.txt\n",
      "[INFO   ] [Factory     ] 194 symbols loaded\n",
      "[INFO   ] [Image       ] Providers: img_tex, img_dds, img_sdl2, img_gif (img_pil, img_ffpyplayer ignored)\n",
      "[INFO   ] [Text        ] Provider: sdl2\n",
      "[INFO   ] [Kivy        ] v1.10.1\n",
      "[INFO   ] [Python      ] v3.7.3 (default, Apr 24 2019, 15:29:51) [MSC v.1915 64 bit (AMD64)]\n",
      "[WARNING] [Call to deprecated function __init__ in C]\\Users\\Felipe\\Anaconda3\\envs\\k37\\lib\\site-packages\\kivy\\interactive.py line 308.Called from <ipython-input-3-f2afd991223c> line 2 by <module>().\n",
      "[INFO   ] [Window      ] Provider: sdl2\n",
      "[INFO   ] [GL          ] Using the \"OpenGL\" graphics system\n",
      "[INFO   ] [GL          ] GLEW initialization succeeded\n",
      "[INFO   ] [GL          ] Backend used <glew>\n",
      "[INFO   ] [GL          ] OpenGL version <b'4.3.0 - Build 20.19.15.4835'>\n",
      "[INFO   ] [GL          ] OpenGL vendor <b'Intel'>\n",
      "[INFO   ] [GL          ] OpenGL renderer <b'Intel(R) HD Graphics 4400'>\n",
      "[INFO   ] [GL          ] OpenGL parsed version: 4, 3\n",
      "[INFO   ] [GL          ] Shading version <b'4.30 - Build 20.19.15.4835'>\n",
      "[INFO   ] [GL          ] Texture max size <16384>\n",
      "[INFO   ] [GL          ] Texture max units <32>\n",
      "[INFO   ] [Window      ] auto add sdl2 input provider\n",
      "[INFO   ] [Window      ] virtual keyboard not allowed, single mode, not docked\n",
      "[INFO   ] [Base        ] Start application main loop\n",
      "[INFO   ] [GL          ] NPOT texture support is available\n"
     ]
    }
   ],
   "source": [
    "#importação dos pacotes das classes\n",
    "from kivy.app import App\n",
    "from kivy.uix.widget import Widget\n",
    "from kivy.interactive import InteractiveLauncher\n",
    "\n",
    "from kivy.config import Config\n",
    "Config.set(\"graphics\", \"fullscreen\", \"0\")"
   ]
  },
  {
   "cell_type": "code",
   "execution_count": 2,
   "metadata": {},
   "outputs": [],
   "source": [
    "class EstudoApp(App):\n",
    "    def build(self):\n",
    "        return Widget()"
   ]
  },
  {
   "cell_type": "code",
   "execution_count": 3,
   "metadata": {},
   "outputs": [],
   "source": [
    "e = EstudoApp()\n",
    "ji = InteractiveLauncher(e)\n",
    "ji.run()"
   ]
  },
  {
   "cell_type": "code",
   "execution_count": 4,
   "metadata": {},
   "outputs": [],
   "source": [
    "from kivy.uix.button import Button\n",
    "bt = Button(text=\"excript\")"
   ]
  },
  {
   "cell_type": "code",
   "execution_count": 5,
   "metadata": {},
   "outputs": [],
   "source": [
    "ji.root.add_widget(bt)"
   ]
  },
  {
   "cell_type": "code",
   "execution_count": 7,
   "metadata": {},
   "outputs": [],
   "source": [
    "bt.text = \"123\""
   ]
  },
  {
   "cell_type": "code",
   "execution_count": 8,
   "metadata": {},
   "outputs": [],
   "source": [
    "def bt_click():\n",
    "    print(\"excript\")"
   ]
  },
  {
   "cell_type": "code",
   "execution_count": 9,
   "metadata": {},
   "outputs": [
    {
     "name": "stdout",
     "output_type": "stream",
     "text": [
      "excript\n",
      "excript\n"
     ]
    }
   ],
   "source": [
    "bt.on_press = bt_click"
   ]
  }
 ],
 "metadata": {
  "kernelspec": {
   "display_name": "Python 3",
   "language": "python",
   "name": "python3"
  },
  "language_info": {
   "codemirror_mode": {
    "name": "ipython",
    "version": 3
   },
   "file_extension": ".py",
   "mimetype": "text/x-python",
   "name": "python",
   "nbconvert_exporter": "python",
   "pygments_lexer": "ipython3",
   "version": "3.7.3"
  }
 },
 "nbformat": 4,
 "nbformat_minor": 2
}
